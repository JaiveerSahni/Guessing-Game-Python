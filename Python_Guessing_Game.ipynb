{
 "cells": [
  {
   "cell_type": "markdown",
   "id": "ea076bfd",
   "metadata": {},
   "source": [
    "# GUESSING NO GAME"
   ]
  },
  {
   "cell_type": "code",
   "execution_count": 1,
   "id": "f0caf0ad",
   "metadata": {},
   "outputs": [
    {
     "name": "stdout",
     "output_type": "stream",
     "text": [
      "Enter a number between 1 and 51: 43\n",
      "Sorry,guess again.Too high\n",
      "Enter a number between 1 and 51: 35\n",
      "Sorry,guess again.Too high\n",
      "Enter a number between 1 and 51: 28\n",
      "Sorry,guess again.Too high\n",
      "Enter a number between 1 and 51: 20\n",
      "Sorry,guess again.Too high\n",
      "Enter a number between 1 and 51: 12\n",
      "Sorry,guess again.Too high\n",
      "Enter a number between 1 and 51: 8\n",
      "Sorry,guess again.Too low\n",
      "Enter a number between 1 and 51: 10\n",
      "Sorry,guess again.Too low\n",
      "Enter a number between 1 and 51: 11\n",
      "Correct Guess You win\n",
      "You took 8 chances to reach the correct guess\n"
     ]
    }
   ],
   "source": [
    "import random\n",
    "def guess(x):\n",
    "    count=0\n",
    "    guess=0\n",
    "    number=random.randint(1,x)\n",
    "    while(guess!=number):\n",
    "        guess=int(input(f\"Enter a number between 1 and {x}: \"))\n",
    "        if(guess==number):\n",
    "            count=count+1\n",
    "            print(\"Correct Guess You win\")\n",
    "            break;\n",
    "        elif(guess>number):\n",
    "            count=count+1\n",
    "            print(\"Sorry,guess again.Too high\")\n",
    "        else:\n",
    "            count=count+1\n",
    "            print(\"Sorry,guess again.Too low\")\n",
    "    print(f'You took {count} chances to reach the correct guess')\n",
    "guess(51)\n",
    "            "
   ]
  },
  {
   "cell_type": "markdown",
   "id": "9d981d19",
   "metadata": {},
   "source": [
    "#### COMPUTER GUESSING OUR SECRET NUMBER"
   ]
  },
  {
   "cell_type": "code",
   "execution_count": 2,
   "id": "af5af306",
   "metadata": {},
   "outputs": [
    {
     "name": "stdout",
     "output_type": "stream",
     "text": [
      "Is 31 too high(h), too low(l) or correct(c):l\n",
      "Is 50 too high(h), too low(l) or correct(c):h\n",
      "Is 41 too high(h), too low(l) or correct(c):h\n",
      "Is 37 too high(h), too low(l) or correct(c):l\n",
      "Is 39 too high(h), too low(l) or correct(c):c\n",
      "Yay! Computer guessed your secret number 39 correctly in 4 tries\n"
     ]
    }
   ],
   "source": [
    "import random\n",
    "def computer_guess(x):\n",
    "    low=1\n",
    "    high=x\n",
    "    feedback=''\n",
    "    count=0\n",
    "    while feedback!='c':\n",
    "        guess=random.randint(low,high)\n",
    "        feedback=input(f'Is {guess} too high(h), too low(l) or correct(c):')\n",
    "        if(feedback=='h'):\n",
    "            high=guess-1\n",
    "            count=count+1\n",
    "        elif(feedback=='l'):\n",
    "            low=guess+1\n",
    "            count=count+1\n",
    "    print(f'Yay! I guessed your secret number {guess} correctly in {count} tries')\n",
    "computer_guess(51)\n",
    "            \n",
    "        \n",
    "    "
   ]
  },
  {
   "cell_type": "code",
   "execution_count": null,
   "id": "2bd562ce",
   "metadata": {},
   "outputs": [],
   "source": []
  }
 ],
 "metadata": {
  "kernelspec": {
   "display_name": "Python 3 (ipykernel)",
   "language": "python",
   "name": "python3"
  },
  "language_info": {
   "codemirror_mode": {
    "name": "ipython",
    "version": 3
   },
   "file_extension": ".py",
   "mimetype": "text/x-python",
   "name": "python",
   "nbconvert_exporter": "python",
   "pygments_lexer": "ipython3",
   "version": "3.9.13"
  }
 },
 "nbformat": 4,
 "nbformat_minor": 5
}
